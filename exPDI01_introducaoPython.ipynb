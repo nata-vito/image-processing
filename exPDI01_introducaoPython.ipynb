{
 "cells": [
  {
   "attachments": {},
   "cell_type": "markdown",
   "metadata": {},
   "source": [
    "# <center>Centro Universitário Facens<br/></center>\n",
    "<br/>\n",
    "<font size=\"4\"><center><b>Disciplina: Processamento de Imagens</b></center></font>\n",
    "  \n",
    "<font size=\"3\"><center>Prof. Renato M. Silva</center></font>\n",
    "<br/>"
   ]
  },
  {
   "attachments": {},
   "cell_type": "markdown",
   "metadata": {},
   "source": [
    "# <center>Exercício - Introdução ao Python</center>\n",
    "\n",
    "Neste exercício, são apresentados alguns recursos básicos do Python que geralmente são necessários nos projetos de Processamento de Imagens. "
   ]
  },
  {
   "cell_type": "markdown",
   "metadata": {},
   "source": [
    "# Numpy - vetores e matrizes\n",
    "\n",
    "A biblioteca `numpy` do python permite a criação, manipulações e operações matemáticas de vetores e matrizes.\n",
    "\n",
    "Primeiro, você deve importar a biblioteca, antes de usar suas funções."
   ]
  },
  {
   "cell_type": "code",
   "execution_count": 1,
   "metadata": {
    "scrolled": true
   },
   "outputs": [],
   "source": [
    "# -*- coding: utf-8 -*-\n",
    "\n",
    "import numpy as np # importa a biblioteca usada para trabalhar com vetores e matrizes."
   ]
  },
  {
   "attachments": {},
   "cell_type": "markdown",
   "metadata": {},
   "source": [
    "## Criando vetores e matrizes\n",
    "\n",
    "Criando um vetor com os seguintes valores $[1,2,3,4,5]$.\n",
    " - valores numéricos\n",
    " - valores inteiros"
   ]
  },
  {
   "cell_type": "code",
   "execution_count": 8,
   "metadata": {},
   "outputs": [
    {
     "name": "stdout",
     "output_type": "stream",
     "text": [
      "[1 2 3 4 5]\n",
      "(5,)\n",
      "[2 2 3 4 5]\n"
     ]
    }
   ],
   "source": [
    "vector = np.array([1, 2, 3, 4, 5], dtype = np.uint8) # dtype garanties that the vector will be int data\n",
    "print(vector)\n",
    "print(vector.shape) # Print the dimensions of matrix\n",
    "\n",
    "vector[0] = 258\n",
    "\n",
    "print(vector)"
   ]
  },
  {
   "cell_type": "markdown",
   "metadata": {},
   "source": [
    "Podemos criar um vetor de elementos sequenciais usando a função `arange` do `numpy`. Por exemplo, vamos criar um vetor com valores de 0 até 7."
   ]
  },
  {
   "cell_type": "code",
   "execution_count": 13,
   "metadata": {},
   "outputs": [
    {
     "name": "stdout",
     "output_type": "stream",
     "text": [
      "[0 1 2 3 4 5 6]\n"
     ]
    }
   ],
   "source": [
    "seq_vector = np.arange(7)\n",
    "print(seq_vector)\n"
   ]
  },
  {
   "cell_type": "markdown",
   "metadata": {},
   "source": [
    "Agora, vamos criar um vetor de elementos sequenciais de 5 até 10."
   ]
  },
  {
   "cell_type": "code",
   "execution_count": 14,
   "metadata": {},
   "outputs": [
    {
     "name": "stdout",
     "output_type": "stream",
     "text": [
      "[5 6 7 8 9]\n"
     ]
    }
   ],
   "source": [
    "seq_vector = np.arange(5, 10)\n",
    "print(seq_vector)\n"
   ]
  },
  {
   "cell_type": "markdown",
   "metadata": {},
   "source": [
    "Nós podemos também criar um vetor sequencial variando de 2 em 2 ou com outros intervalos."
   ]
  },
  {
   "cell_type": "code",
   "execution_count": 20,
   "metadata": {},
   "outputs": [
    {
     "name": "stdout",
     "output_type": "stream",
     "text": [
      "[ 2  4  6  8 10 12 14 16 18]\n",
      "[20 18 16 14 12 10  8  6  4]\n",
      "[ 5 10 15 20 25 30 35 40 45 50]\n"
     ]
    }
   ],
   "source": [
    "seq_vector = np.arange(2, 20, 2)\n",
    "print(seq_vector)\n",
    "\n",
    "seq_vector = np.arange(20, 2, -2)\n",
    "print(seq_vector)\n",
    "\n",
    "seq_vector = np.linspace(5, 50, 10, dtype=np.uint8) # generate 20 numbers starting with 5 to 10\n",
    "print(seq_vector)\n",
    "\n",
    "\n"
   ]
  },
  {
   "cell_type": "markdown",
   "metadata": {},
   "source": [
    "Vetores sequenciais podem ser usados em laços de repetição. Por exemplo, vamos imprimir todos os valores entre 2 e 10 usando um laço de repetição `for`."
   ]
  },
  {
   "cell_type": "code",
   "execution_count": 24,
   "metadata": {},
   "outputs": [
    {
     "name": "stdout",
     "output_type": "stream",
     "text": [
      "5\n",
      "10\n",
      "15\n",
      "20\n",
      "25\n",
      "30\n",
      "35\n",
      "40\n",
      "45\n",
      "50\n",
      "----------\n",
      "0\n",
      "1\n",
      "2\n",
      "3\n",
      "4\n",
      "5\n",
      "6\n",
      "7\n",
      "8\n",
      "9\n"
     ]
    }
   ],
   "source": [
    "\n",
    "for i in seq_vector:\n",
    "    print(i)\n",
    "    \n",
    "print(10 * '-')\n",
    "\n",
    "for i in np.arange(10):\n",
    "    print(i)\n"
   ]
  },
  {
   "cell_type": "markdown",
   "metadata": {},
   "source": [
    "Nós também podemos criar um vetor com $n$-zeros ou $n$-uns."
   ]
  },
  {
   "cell_type": "code",
   "execution_count": 29,
   "metadata": {},
   "outputs": [
    {
     "name": "stdout",
     "output_type": "stream",
     "text": [
      "[0. 0. 0. 0. 0. 0. 0. 0. 0. 0.]\n",
      "[5 5 5 5 5 5 5 5 5 5]\n"
     ]
    }
   ],
   "source": [
    "\n",
    "seq_vector = np.zeros(10)\n",
    "print(seq_vector)\n",
    "\n",
    "one_vector  = np.ones(10, dtype=np.uint8) * 5\n",
    "print(one_vector)\n"
   ]
  },
  {
   "cell_type": "markdown",
   "metadata": {},
   "source": [
    "Criando uma matriz com os valores: $\n",
    "  \\begin{bmatrix}\n",
    "    1 & 2 & 3 & 4 & 5 \\\\\n",
    "    6 & 7 & 8 & 9 & 10\n",
    "  \\end{bmatrix}$"
   ]
  },
  {
   "cell_type": "code",
   "execution_count": 47,
   "metadata": {},
   "outputs": [
    {
     "name": "stdout",
     "output_type": "stream",
     "text": [
      "[[ 0  1  2  3  4]\n",
      " [ 6  7  8  9 10]]\n"
     ]
    },
    {
     "data": {
      "image/png": "[encoded data removed]",
      "text/plain": [
       "<Figure size 640x480 with 1 Axes>"
      ]
     },
     "metadata": {},
     "output_type": "display_data"
    },
    {
     "data": {
      "image/png": "[encoded data removed]",
      "text/plain": [
       "<Figure size 640x480 with 1 Axes>"
      ]
     },
     "metadata": {},
     "output_type": "display_data"
    }
   ],
   "source": [
    "\n",
    "matriz = np.array([\n",
    "                    np.arange(0, 5, 1),\n",
    "                    np.arange(6, 11, 1)\n",
    "                  ])\n",
    "\n",
    "print(matriz)\n",
    "\n",
    "import matplotlib.pyplot as plt\n",
    "\n",
    "plt.imshow(matriz, 'plasma_r')      # Image from matriz\n",
    "plt.show()                      # Show the matriz image\n",
    "\n",
    "matriz_2 = np.array([\n",
    "                    [[255, 0, 0], [0, 0, 0], [255, 0, 0]],\n",
    "                    [[0, 0, 0], [255, 0, 0], [0, 0, 0]]\n",
    "                  ])\n",
    "\n",
    "\n",
    "plt.imshow(matriz_2)      # Image from matriz\n",
    "plt.show()                      # Show the matriz image"
   ]
  },
  {
   "cell_type": "markdown",
   "metadata": {},
   "source": [
    "Nós também podemos criar uma matriz de valores zero e uma matriz de valores um:"
   ]
  },
  {
   "cell_type": "code",
   "execution_count": 53,
   "metadata": {},
   "outputs": [
    {
     "data": {
      "image/png": "[encoded data removed]",
      "text/plain": [
       "<Figure size 640x480 with 1 Axes>"
      ]
     },
     "metadata": {},
     "output_type": "display_data"
    },
    {
     "data": {
      "image/png": "[encoded data removed]",
      "text/plain": [
       "<Figure size 640x480 with 1 Axes>"
      ]
     },
     "metadata": {},
     "output_type": "display_data"
    }
   ],
   "source": [
    "\n",
    "matriz0 = np.zeros([5, 3, 3]) # o ultimo valor é para a quantidade de valores do array\n",
    "matriz1 = np.ones([5, 3, 3])\n",
    "#print(matriz0)\n",
    "#print(matriz1)\n",
    "\n",
    "plt.imshow(matriz0)      # Image from matriz\n",
    "plt.show()                      # Show the matriz image\n",
    "\n",
    "plt.imshow(matriz1)      # Image from matriz\n",
    "plt.show()   "
   ]
  },
  {
   "cell_type": "markdown",
   "metadata": {},
   "source": [
    "## Selecionando elementos de vetores e matrizes\n",
    "\n",
    "Suponha que temos um vetor $[a,b,c,d,e,f,g,h,i]$. Nós podemos selecionar vários subconjuntos de elementos desse vetor, conforme mostrado abaixo. **Observação**: no python, o índice começa a contar em 0."
   ]
  },
  {
   "cell_type": "code",
   "execution_count": null,
   "metadata": {},
   "outputs": [],
   "source": [
    "\n",
    "\n",
    "\n"
   ]
  },
  {
   "cell_type": "markdown",
   "metadata": {},
   "source": [
    "Suponha que temos um array: $\\begin{bmatrix}\n",
    "    1a & 1b & 1c & 1d & 1e & 1f & 1g & 1h & 1i \\\\\n",
    "    2a & 2b & 2c & 2d & 2e & 2f & 2g & 2h & 2i \\\\\n",
    "    3a & 3b & 3c & 3d & 3e & 3f & 3g & 3h & 3i \\\\\n",
    "    4a & 4b & 4c & 4d & 4e & 4f & 4g & 4h & 4i \\\\\n",
    "  \\end{bmatrix}$.\n",
    "\n",
    "Nós podemos selecionar vários subconjuntos de elementos dessa matriz, conforme mostrado abaixo."
   ]
  },
  {
   "cell_type": "code",
   "execution_count": 70,
   "metadata": {},
   "outputs": [
    {
     "name": "stdout",
     "output_type": "stream",
     "text": [
      "[[11 12 13 14 15 16 17 18 19]\n",
      " [21 22 23 24 25 26 27 28 29]\n",
      " [31 32 33 34 35 36 37 38 39]\n",
      " [41 42 43 44 45 46 47 48 49]]\n",
      "Duas Primeiras Linhas\n",
      "[[11 12 13 14 15 16 17 18 19]\n",
      " [21 22 23 24 25 26 27 28 29]]\n",
      "Três Primeiras Linhas\n",
      "[[11 12 13]\n",
      " [21 22 23]\n",
      " [31 32 33]\n",
      " [41 42 43]]\n",
      "Duas Primeiras Linhas e duas primeiras colunas\n",
      "[[11 12]\n",
      " [21 22]]\n",
      "Duas Primeiras Linhas e duas primeiras colunas\n",
      "[[35 36 37 38 39]\n",
      " [45 46 47 48 49]]\n"
     ]
    }
   ],
   "source": [
    "\n",
    "\n",
    "matriz = np.array([\n",
    "                    np.arange(11, 20),\n",
    "                    np.arange(21, 30),\n",
    "                    np.arange(31, 40),\n",
    "                    np.arange(41, 50),\n",
    "                  ]\n",
    "                )\n",
    "\n",
    "print(matriz)\n",
    "print('Duas Primeiras Linhas')\n",
    "print(matriz[0: 2, :])\n",
    "\n",
    "print('Três Primeiras Linhas')\n",
    "print(matriz[: , :3])\n",
    "\n",
    "print('Duas Primeiras Linhas e duas primeiras colunas')\n",
    "print(matriz[0: 2, 0:2])\n",
    "\n",
    "print('Linha 2 em diante e coluna 4 em diante')\n",
    "print(matriz[2: ,4 :])\n",
    "\n"
   ]
  },
  {
   "cell_type": "markdown",
   "metadata": {},
   "source": [
    "## Operações básicas com vetores e matrizes\n",
    "\n",
    "Soma e subtração entre vetores."
   ]
  },
  {
   "cell_type": "code",
   "execution_count": null,
   "metadata": {},
   "outputs": [],
   "source": [
    "\n",
    "\n",
    "\n",
    "\n"
   ]
  },
  {
   "cell_type": "markdown",
   "metadata": {},
   "source": [
    "Soma e subtração entre matrizes."
   ]
  },
  {
   "cell_type": "code",
   "execution_count": null,
   "metadata": {},
   "outputs": [],
   "source": [
    "\n",
    "\n",
    "\n",
    "\n"
   ]
  },
  {
   "cell_type": "markdown",
   "metadata": {},
   "source": [
    "Produto entre duas matrizes."
   ]
  },
  {
   "cell_type": "code",
   "execution_count": null,
   "metadata": {},
   "outputs": [],
   "source": [
    "\n",
    "\n",
    "\n",
    "\n",
    "\n"
   ]
  },
  {
   "cell_type": "markdown",
   "metadata": {},
   "source": [
    "Média dos valores de uma matriz."
   ]
  },
  {
   "cell_type": "code",
   "execution_count": null,
   "metadata": {},
   "outputs": [],
   "source": [
    "\n",
    "\n",
    "\n",
    "\n"
   ]
  },
  {
   "cell_type": "markdown",
   "metadata": {},
   "source": [
    "Desvio padrão dos valores de uma matriz."
   ]
  },
  {
   "cell_type": "code",
   "execution_count": null,
   "metadata": {},
   "outputs": [],
   "source": [
    "\n",
    "\n",
    "\n",
    "\n"
   ]
  },
  {
   "attachments": {},
   "cell_type": "markdown",
   "metadata": {},
   "source": [
    "Outras funções para vetores e matrizes.\n",
    "* `np.median` &rarr; mediana\n",
    "* `np.min()` &rarr; valor mínimo\n",
    "* `np.max()` &rarr; valor máximo\n",
    "* `np.sort(A)` &rarr; retorna o vetor $A$ ordenado\n",
    "* `np.argsort(A)` &rarr; retorna os índices do vetor $A$ ordenado\n",
    "* `np.var()` &rarr; variância\n",
    "* `np.shape()` &rarr; dimensões da matriz\n",
    "* `np.transpose()` &rarr; transposta da matriz\n",
    "* `np.concatenate(arrays, axis=numero_do_eixo)` &rarr; concatena vetores ou matrizes\n",
    "* `vstack(A,B)` &rarr; empilha verticalmente\n",
    "* `hstack(A,B)` &rarr; empilha horizontalmente\n",
    "* `np.where(A>n)` &rarr; elementos em $A$ maiores que $n$"
   ]
  },
  {
   "cell_type": "markdown",
   "metadata": {},
   "source": [
    "## Exercícios\n",
    "\n",
    "**Ex. 1**. Crie duas matrizes com os nomes $ExA$ e $ExB$ preenchidas com os seguintes valores:\n",
    "\n",
    "$ExA = \\begin{bmatrix}\n",
    "    12 & 9 & 4 & 1 \\\\\n",
    "    11 & 5 & 8 & 1 \\\\\n",
    "    1 & 2 & 3 & 1 \\\\\n",
    "  \\end{bmatrix}\n",
    "$, \n",
    "$\n",
    "ExB = \\begin{bmatrix}\n",
    "    1 & 5 \\\\\n",
    "    1 & 7 \\\\\n",
    "    1 & 9 \\\\\n",
    "    1 & 1 \\\\\n",
    "  \\end{bmatrix}\n",
    "$. Após isso, imprima as duas matrizes."
   ]
  },
  {
   "cell_type": "code",
   "execution_count": null,
   "metadata": {},
   "outputs": [],
   "source": [
    "################# ESCREVA SEU CÓDIGO AQUI  ###############################\n",
    "\n",
    "\n",
    "\n",
    "\n",
    "\n",
    "\n",
    "##########################################################################"
   ]
  },
  {
   "cell_type": "markdown",
   "metadata": {},
   "source": [
    "**Ex. 2**. Crie uma matriz $ExC$ usando a seguinte operação: $ExC = ExA \\cdot ExB$. Depois, imprima $ExC$. "
   ]
  },
  {
   "cell_type": "code",
   "execution_count": null,
   "metadata": {},
   "outputs": [],
   "source": [
    "################# ESCREVA SEU CÓDIGO AQUI  ###############################\n",
    "\n",
    "\n",
    "\n",
    "\n",
    "\n",
    "\n",
    "##########################################################################"
   ]
  },
  {
   "cell_type": "markdown",
   "metadata": {},
   "source": [
    "**Ex. 3**. Crie uma função que retorne a média e o desvio padrão das linhas de uma matriz e a média e desvio padrão das colunas de uma matriz. Depois teste sua função com a matriz $ExC$."
   ]
  },
  {
   "cell_type": "code",
   "execution_count": null,
   "metadata": {},
   "outputs": [],
   "source": [
    "################# ESCREVA SEU CÓDIGO AQUI  ###############################\n",
    "\n",
    "\n",
    "\n",
    "\n",
    "\n",
    "\n",
    "\n",
    "\n",
    "\n",
    "\n",
    "##########################################################################"
   ]
  },
  {
   "cell_type": "markdown",
   "metadata": {},
   "source": [
    "**Ex. 4**. Crie uma matriz $ExD$ com os valores das duas últimas colunas de $ExA$. Depois, calcule a média dos valores de $ExD$."
   ]
  },
  {
   "cell_type": "code",
   "execution_count": null,
   "metadata": {
    "scrolled": true
   },
   "outputs": [],
   "source": [
    "################# ESCREVA SEU CÓDIGO AQUI  ###############################\n",
    "\n",
    "\n",
    "\n",
    "\n",
    "\n",
    "\n",
    "\n",
    "##########################################################################"
   ]
  },
  {
   "cell_type": "markdown",
   "metadata": {},
   "source": [
    "**Ex. 5**. Crie uma matriz $ExE$ com os valores das linhas 1 e 2 e das colunas 1 e 2 de $ExA$."
   ]
  },
  {
   "cell_type": "code",
   "execution_count": null,
   "metadata": {
    "scrolled": true
   },
   "outputs": [],
   "source": [
    "################# ESCREVA SEU CÓDIGO AQUI  ###############################\n",
    "\n",
    "\n",
    "\n",
    "\n",
    "\n",
    "\n",
    "##########################################################################"
   ]
  },
  {
   "cell_type": "markdown",
   "metadata": {},
   "source": [
    "**Ex. 6**. Crie e imprima uma matriz $ExF$ com 5 linhas e 2 colunas e todos os valores iguais a 0."
   ]
  },
  {
   "cell_type": "code",
   "execution_count": null,
   "metadata": {},
   "outputs": [],
   "source": [
    "################# ESCREVA SEU CÓDIGO AQUI  ###############################\n",
    "\n",
    "\n",
    "\n",
    "\n",
    "\n",
    "\n",
    "##########################################################################"
   ]
  },
  {
   "cell_type": "markdown",
   "metadata": {},
   "source": [
    "**Ex. 7**. Crie e imprima uma matriz $ExG$ com 4 linhas e 3 colunas e todos os valores iguais a 1."
   ]
  },
  {
   "cell_type": "code",
   "execution_count": null,
   "metadata": {},
   "outputs": [],
   "source": [
    "################# ESCREVA SEU CÓDIGO AQUI  ###############################\n",
    "\n",
    "\n",
    "\n",
    "\n",
    "\n",
    "\n",
    "##########################################################################"
   ]
  },
  {
   "cell_type": "markdown",
   "metadata": {},
   "source": [
    "**Ex. 8**. Crie uma função que retorne o fatorial de um número. Teste a função que você criou, calculando o fatorial de 8. \n",
    "\n",
    "Fórmula do fatorial: $n! = (1 * 2 * 3 * ... * (n-2) * (n-1) * n)$\n",
    "\n",
    "Obs: é obrigatório usar um laço `for`. \n",
    "\n",
    "Exemplos: \n",
    "* $1! = 1$\n",
    "* $2! = 1*2$\n",
    "* $3! = 1*2*3$\n",
    "* $4! = 1*2*3*4$\n",
    "* $5! = 1*2*3*4*5$"
   ]
  },
  {
   "cell_type": "code",
   "execution_count": null,
   "metadata": {},
   "outputs": [],
   "source": [
    "################# ESCREVA SEU CÓDIGO AQUI  ###############################\n",
    "\n",
    "\n",
    "\n",
    "\n",
    "\n",
    "\n",
    "\n",
    "\n",
    "##########################################################################"
   ]
  },
  {
   "cell_type": "code",
   "execution_count": null,
   "metadata": {},
   "outputs": [],
   "source": []
  }
 ],
 "metadata": {
  "kernelspec": {
   "display_name": "Python 3.10.6 64-bit",
   "language": "python",
   "name": "python3"
  },
  "language_info": {
   "codemirror_mode": {
    "name": "ipython",
    "version": 3
   },
   "file_extension": ".py",
   "mimetype": "text/x-python",
   "name": "python",
   "nbconvert_exporter": "python",
   "pygments_lexer": "ipython3",
   "version": "3.10.6"
  },
  "vscode": {
   "interpreter": {
    "hash": "5b85ecd62d34b2d4f964380279f906b7c52434c15178f99d696ce4abab7c84bf"
   }
  }
 },
 "nbformat": 4,
 "nbformat_minor": 4
}
